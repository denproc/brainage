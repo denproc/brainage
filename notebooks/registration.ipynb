{
 "cells": [
  {
   "cell_type": "markdown",
   "metadata": {},
   "source": [
    "# Registration Sandbox Notebook\n",
    "This notebook is for registration sandbox to play with different parametrisation of the registration process and display the results.\n",
    " "
   ]
  },
  {
   "cell_type": "code",
   "execution_count": null,
   "metadata": {},
   "outputs": [],
   "source": [
    "import os\n",
    "import sys\n",
    "import matplotlib.pyplot as plt\n",
    "import SimpleITK as sitk\n",
    "import glob\n",
    "project_root = os.path.abspath('..')\n",
    "sys.path.insert(1, project_root)\n",
    "from src.groupwise import groupwise_registration"
   ]
  },
  {
   "cell_type": "code",
   "execution_count": null,
   "metadata": {},
   "outputs": [],
   "source": [
    "# Config \n",
    "version = 'interactive'\n",
    "rigid_param = {'learn_rate': 1,\n",
    "                   'min_step': 0.01, #early stop - step of SGD\n",
    "                   'max_iter': 50, # max iter of SGD\n",
    "                   'pyramid_lvl': 1} # Resolution\n",
    "affine_param = {'learn_rate': .05,\n",
    "                    'min_step': 0.001,\n",
    "                    'max_iter': 50,\n",
    "                    'pyramid_lvl': 1} # Resolution\n",
    "nonlin_param = {'cpn': 5, # Mesh size for B-spline\n",
    "                    'learn_rate': 1,\n",
    "                    'min_step': 0.1,\n",
    "                    'max_iter': 10,\n",
    "                    'pyramid_lvl': [4, 2, 1]} # Resolution\n",
    "iter_types = ['Rigid'] * 3 + ['Affine'] * 2 + ['NonLinear'] * 1\n",
    "save_folder = os.path.join(project_root, f'data/output/registration/{version}')\n",
    "resume = False  # False - to perform registration from scratch, True - to perform the registration from previous results"
   ]
  },
  {
   "cell_type": "code",
   "execution_count": null,
   "metadata": {},
   "outputs": [],
   "source": [
    "# Read images, which are provided with segmentations\n",
    "input_images = []\n",
    "for file_name in sorted(glob.glob(os.path.join(project_root, 'data/input/segmented/*img.nii.gz'))):\n",
    "    input_images.append(sitk.ReadImage(file_name, sitk.sitkFloat32))\n",
    "n_images = len(input_images)"
   ]
  },
  {
   "cell_type": "code",
   "execution_count": null,
   "metadata": {},
   "outputs": [],
   "source": [
    "if not resume:\n",
    "    # Perform registration from scratch\n",
    "    avg_image = None\n",
    "    init_transf = None\n",
    "else:\n",
    "    # Perform registration from previsous result\n",
    "    avg_image = [sitk.ReadImage(os.path.join(project_root, f'data/output/registration/{version}/average.nii.gz'))]\n",
    "    init_transf = []\n",
    "    for i in range(n_images):\n",
    "        init_transf.append(sitk.ReadTransform(os.path.join(project_root, f'data/output/registration/{version}/transformation_{i}.tfm')))"
   ]
  },
  {
   "cell_type": "code",
   "execution_count": null,
   "metadata": {
    "scrolled": true
   },
   "outputs": [],
   "source": [
    "# Execute groupwise transformation\n",
    "trans, averages = groupwise_registration(input_images,\n",
    "                                         iter_types,\n",
    "                                         rigid_param,\n",
    "                                         affine_param,\n",
    "                                         nonlin_param,\n",
    "                                         init_transformations=init_transf,\n",
    "                                         average_images=avg_image)\n"
   ]
  },
  {
   "cell_type": "code",
   "execution_count": null,
   "metadata": {},
   "outputs": [],
   "source": [
    "os.makedirs(save_folder)\n",
    "# Save the average images to disk\n",
    "for i, img in enumerate(averages):\n",
    "    sitk.WriteImage(img, os.path.join(save_folder, f'average_{i}.nii.gz'))\n",
    "\n",
    "# Save the final average image as a main reference\n",
    "sitk.WriteImage(averages[-1], os.path.join(save_folder, 'average.nii.gz'))\n",
    "    \n",
    "# Save the transformations to disk\n",
    "for i, transform in enumerate(trans):\n",
    "    sitk.WriteTransform(transform, os.path.join(save_folder, f'transformation_{i}.tfm'))"
   ]
  },
  {
   "cell_type": "markdown",
   "metadata": {},
   "source": [
    "# Analyse the results"
   ]
  },
  {
   "cell_type": "code",
   "execution_count": null,
   "metadata": {},
   "outputs": [],
   "source": [
    "slices = [99, 53, 50]\n",
    "ncols = len(input_images)\n",
    "nrows = len(slices)\n",
    "f, ax = plt.subplots(nrows=nrows, ncols=ncols, figsize=(ncols*3, nrows*3), squeeze=False)\n",
    "for col in range(ncols):\n",
    "    image_to_show = sitk.GetArrayViewFromImage(input_images[col])\n",
    "    ax[0, col].imshow(image_to_show[slices[0]], cmap='gray')\n",
    "    ax[1, col].imshow(image_to_show[:, slices[1]], cmap='gray')\n",
    "    ax[2, col].imshow(image_to_show[:, :, slices[2]], cmap='gray')\n",
    "    for row in range(nrows):\n",
    "        ax[row, col].axis('off')\n",
    "f.suptitle('Input Images, 3 Projections View')\n",
    "plt.show()"
   ]
  },
  {
   "cell_type": "code",
   "execution_count": null,
   "metadata": {},
   "outputs": [],
   "source": [
    "# Show all intermediate averages\n",
    "\n",
    "slices = [99, 53, 50]\n",
    "ncols = len(averages)\n",
    "nrows = len(slices)\n",
    "vmax = None\n",
    "vmin = None\n",
    "\n",
    "f, ax = plt.subplots(nrows=nrows, ncols=ncols, figsize=(5*ncols, 5*nrows), squeeze=False)\n",
    "for col in range(ncols):\n",
    "    image_to_show = sitk.GetArrayViewFromImage(averages[col])\n",
    "    ax[0, col].set_title(f'Iteration: {col}')\n",
    "    im = []\n",
    "    im.append(ax[0, col].imshow(image_to_show[slices[0]], cmap='gray', vmax=vmax, vmin=vmin))\n",
    "    im.append(ax[1, col].imshow(image_to_show[:, slices[1]], cmap='gray', vmax=vmax, vmin=vmin))\n",
    "    im.append(ax[2, col].imshow(image_to_show[:, :, slices[2]], cmap='gray', vmax=vmax, vmin=vmin))\n",
    "    \n",
    "    for row in range(nrows):\n",
    "        ax[row, col].axis('off')\n",
    "        cax = ax[row, col].inset_axes([1.04, 0.2, 0.02, 0.6])\n",
    "        f.colorbar(im[row], cax=cax)\n",
    "f.suptitle('Average Templates, 3 Projections View')\n",
    "plt.show()"
   ]
  },
  {
   "cell_type": "code",
   "execution_count": null,
   "metadata": {
    "pycharm": {
     "name": "#%%\n"
    }
   },
   "outputs": [],
   "source": [
    "### import numpy as np\n",
    "ncols = len(averages) - 1\n",
    "slices = [99, 53, 50]\n",
    "nrows = len(slices)\n",
    "f, ax = plt.subplots(nrows=nrows, ncols=ncols, figsize=(5*ncols, 5*nrows))\n",
    "for col in range(ncols):\n",
    "    image_0 = sitk.GetArrayViewFromImage(averages[col])\n",
    "    image_1 = sitk.GetArrayViewFromImage(averages[col + 1])\n",
    "    d = abs(image_0 - image_1)\n",
    "    \n",
    "    im = []\n",
    "    im.append(ax[0, col].imshow(d[slices[0]], cmap='gray'))\n",
    "    im.append(ax[1, col].imshow(d[:, slices[1]], cmap='gray'))\n",
    "    im.append(ax[2, col].imshow(d[:,:,slices[2]], cmap='gray'))\n",
    "    \n",
    "    for row in range(nrows):\n",
    "        ax[row, col].axis('off')\n",
    "        cax = ax[row, col].inset_axes([1.04, 0.2, 0.02, 0.6])\n",
    "        f.colorbar(im[row], cax=cax)\n",
    "f.suptitle('Differences Between Templates Across Iterations, 3 Projections View')\n",
    "plt.show()"
   ]
  }
 ],
 "metadata": {
  "kernelspec": {
   "display_name": "Python 3",
   "language": "python",
   "name": "python3"
  },
  "language_info": {
   "codemirror_mode": {
    "name": "ipython",
    "version": 3
   },
   "file_extension": ".py",
   "mimetype": "text/x-python",
   "name": "python",
   "nbconvert_exporter": "python",
   "pygments_lexer": "ipython3",
   "version": "3.8.5"
  }
 },
 "nbformat": 4,
 "nbformat_minor": 4
}