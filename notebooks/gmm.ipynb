{
 "cells": [
  {
   "cell_type": "markdown",
   "metadata": {},
   "source": [
    "# Segmentation Sandbox Notebook"
   ]
  },
  {
   "cell_type": "code",
   "execution_count": null,
   "metadata": {},
   "outputs": [],
   "source": [
    "import numpy as np\n",
    "from tqdm import tqdm\n",
    "from IPython.display import clear_output\n",
    "from time import sleep\n",
    "import os\n",
    "import sys\n",
    "import matplotlib.pyplot as plt\n",
    "import SimpleITK as sitk\n",
    "import glob\n",
    "project_root = os.path.abspath('..')\n",
    "sys.path.insert(1, project_root)\n",
    "from src.gmm import GMM"
   ]
  },
  {
   "cell_type": "code",
   "execution_count": null,
   "metadata": {},
   "outputs": [],
   "source": [
    "# Congif\n",
    "version = 'interactive'\n",
    "load_dir = os.path.join(project_root, 'data/input/unsegmented')\n",
    "prior_dir = os.path.join(project_root, f'data/output/segmentation_priors/{version}')"
   ]
  },
  {
   "cell_type": "code",
   "execution_count": null,
   "metadata": {},
   "outputs": [],
   "source": [
    "# Load images\n",
    "unsegmented_arrays = []\n",
    "priors = {'csf': [], 'gm': [], 'wm': []}\n",
    "bg = []\n",
    "for file_name in sorted(glob.glob(os.path.join(load_dir, '*.nii.gz'))):\n",
    "    unsegmented_arrays.append(sitk.GetArrayFromImage(sitk.ReadImage(file_name, sitk.sitkFloat32)))\n",
    "    \n",
    "# Load the priors transformed into the space of unsegmented images (see priors_for_unsegmented.py)\n",
    "num_segmentations = len(unsegmented_arrays)\n",
    "for index in range(num_segmentations):\n",
    "    for key in priors.keys():\n",
    "        file_name = os.path.join(prior_dir, f'{index}/{key}.nii.gz')\n",
    "        tmp_array = sitk.GetArrayFromImage(sitk.ReadImage(file_name, sitk.sitkFloat32))\n",
    "        priors[key].append(tmp_array)\n",
    "    bg.append(1 - (priors['csf'][-1] + priors['gm'][-1] + priors['wm'][-1]))\n",
    "priors['bg'] = bg\n",
    "del bg"
   ]
  },
  {
   "cell_type": "code",
   "execution_count": null,
   "metadata": {},
   "outputs": [],
   "source": []
  },
  {
   "cell_type": "code",
   "execution_count": null,
   "metadata": {},
   "outputs": [],
   "source": [
    "def display3D(images, titles):\n",
    "    #figure size\n",
    "    nrows = 1\n",
    "    ncols = len(images)\n",
    "    \n",
    "    f, ax = plt.subplots(nrows=nrows, ncols=ncols, figsize=(5*ncols, 5*nrows))\n",
    "    for col in range(ncols):\n",
    "        ax[col].imshow(images[col], cmap='gray')\n",
    "        ax[col].axis('off')\n",
    "        ax[col].set_title(titles[col].upper())\n",
    "    plt.show()\n",
    "    \n",
    "def display_wrap(image, title, slices):\n",
    "    titles = [f'{title}: Projection 1', f'{title}: Projection 2', f'{title}: Projection 3']\n",
    "    display3D(images=[image[::-1, ::-1, slices[0]].T, image[slices[1], :, ::-1].T, image[::-1, slices[2], ::-1].T],titles=titles)"
   ]
  },
  {
   "cell_type": "code",
   "execution_count": null,
   "metadata": {},
   "outputs": [],
   "source": [
    "index = 0\n",
    "image = unsegmented_arrays[index]\n",
    "prior = {}\n",
    "for key, value in priors.items():\n",
    "    prior[key] = value[index]\n",
    "\n",
    "slices = [99, 53, 50]\n",
    "\n",
    "display_wrap(image, f'Unsegmented Case {index}', slices)\n",
    "    \n",
    "for key, value in prior.items():\n",
    "    image_to_display = value\n",
    "    display_wrap(value, key.upper(), slices)\n"
   ]
  },
  {
   "cell_type": "code",
   "execution_count": null,
   "metadata": {},
   "outputs": [],
   "source": [
    "# mask image and priors to eliminate background\n",
    "masked_img = image * (1 - prior['bg']>1e-3)\n",
    "masked_prior = {}\n",
    "for key in ['csf', 'gm', 'wm']:\n",
    "    masked_prior[key] = prior[key] * (1 - prior['bg']>1e-3)"
   ]
  },
  {
   "cell_type": "code",
   "execution_count": null,
   "metadata": {},
   "outputs": [],
   "source": [
    "# Mask priors\n",
    "masked_priors = np.stack([masked_prior['csf'],masked_prior['gm'], masked_prior['wm']], -1)"
   ]
  },
  {
   "cell_type": "code",
   "execution_count": null,
   "metadata": {},
   "outputs": [],
   "source": [
    "slices = [99, 53, 50]\n",
    "\n",
    "display_wrap(masked_img, f'Masked Case {index}', slices)\n",
    "    \n",
    "for key, value in masked_prior.items():\n",
    "    display_wrap(value, key.upper(), slices)"
   ]
  },
  {
   "cell_type": "code",
   "execution_count": null,
   "metadata": {},
   "outputs": [],
   "source": [
    "gmm_parameters = {'n_components': 3, 'max_iter': 10, 'tol': 1e-3, 'prior': None, 'mrf': None, 'verbose': True}"
   ]
  },
  {
   "cell_type": "code",
   "execution_count": null,
   "metadata": {},
   "outputs": [],
   "source": [
    "# Simple GMM model\n",
    "\n",
    "gmm_parameters['prior'] = False\n",
    "gmm_parameters['mrf'] = False\n",
    "\n",
    "model = GMM(n_components=gmm_parameters['n_components'], \n",
    "            max_iter=gmm_parameters['max_iter'], \n",
    "            tol=gmm_parameters['tol'],\n",
    "            prior=gmm_parameters['prior'], \n",
    "            mrf=gmm_parameters['mrf'],\n",
    "            verbose=gmm_parameters['verbose'])\n",
    "\n",
    "scores, p, s = model.fit_predict(masked_img) \n",
    "print('Segmentation results')\n",
    "print(f'Mean values per class: {model.means[0]}')\n",
    "print(f'Variance values per class: {model.variances[0]}')\n",
    "print(f'Model weights: {model.weights[0]}')"
   ]
  },
  {
   "cell_type": "code",
   "execution_count": null,
   "metadata": {},
   "outputs": [],
   "source": [
    "# GMM with priors\n",
    "gmm_parameters['prior'] = True\n",
    "gmm_parameters['mrf'] = False\n",
    "\n",
    "model_prior = GMM(n_components=gmm_parameters['n_components'], \n",
    "                  max_iter=gmm_parameters['max_iter'], \n",
    "                  tol=gmm_parameters['tol'],\n",
    "                  prior=gmm_parameters['prior'], \n",
    "                  mrf=gmm_parameters['mrf'],\n",
    "                  verbose=gmm_parameters['verbose'])\n",
    "scores_p, p_p, s_p = model_prior.fit_predict(masked_img, masked_priors) \n",
    "\n",
    "print('GMM with prior info')\n",
    "print(f'Mean values per class: {model_prior.means[0]}')\n",
    "print(f'Variance values per class: {model_prior.variances[0]}')\n",
    "print(f'Model weights: {model_prior.weights[0]}')"
   ]
  },
  {
   "cell_type": "code",
   "execution_count": null,
   "metadata": {},
   "outputs": [],
   "source": [
    "# GMM with MRF\n",
    "gmm_parameters['prior'] = False\n",
    "gmm_parameters['mrf'] = 0.1\n",
    "\n",
    "model_mrf = GMM(n_components=gmm_parameters['n_components'], \n",
    "                max_iter=gmm_parameters['max_iter'], \n",
    "                tol=gmm_parameters['tol'],\n",
    "                prior=gmm_parameters['prior'], \n",
    "                mrf=gmm_parameters['mrf'],\n",
    "                verbose=gmm_parameters['verbose'])\n",
    "\n",
    "scores_mrf, p_mrf, s_mrf = model_mrf.fit_predict(masked_img) \n",
    "print('GMM with MRF')\n",
    "print(f'Mean values per class: {model_mrf.means[0]}')\n",
    "print(f'Variance values per class: {model_mrf.variances[0]}')\n",
    "print(f'Model weights: {model_mrf.weights[0]}')"
   ]
  },
  {
   "cell_type": "code",
   "execution_count": null,
   "metadata": {},
   "outputs": [],
   "source": [
    "# GMM with MRF and prior\n",
    "gmm_parameters['prior'] = True\n",
    "gmm_parameters['mrf'] = 0.1\n",
    "\n",
    "model_mrf_prior = GMM(n_components=gmm_parameters['n_components'], \n",
    "                  max_iter=gmm_parameters['max_iter'], \n",
    "                  tol=gmm_parameters['tol'],\n",
    "                  prior=gmm_parameters['prior'], \n",
    "                  mrf=gmm_parameters['mrf'],\n",
    "                  verbose=gmm_parameters['verbose'])\n",
    "scores_mrf_prior, p_mrf_prior, s_mrf_prior = model_mrf_prior.fit_predict(masked_img, masked_priors) \n",
    "print('GMM with prior and MRF')\n",
    "print(f'Mean values per class: {model_mrf_prior.means[0]}')\n",
    "print(f'Variance values per class: {model_mrf_prior.variances[0]}')\n",
    "print(f'Model weights: {model_mrf_prior.weights[0]}')"
   ]
  },
  {
   "cell_type": "code",
   "execution_count": null,
   "metadata": {},
   "outputs": [],
   "source": []
  },
  {
   "cell_type": "markdown",
   "metadata": {},
   "source": [
    "### Plot convergence of the models and segmentation results"
   ]
  },
  {
   "cell_type": "code",
   "execution_count": null,
   "metadata": {},
   "outputs": [],
   "source": [
    "plt.title('NLL convegence')\n",
    "plt.plot(scores, label='GMM')\n",
    "plt.plot(scores_p, label='GMM, prior')\n",
    "plt.plot(scores_mrf, label='GMM, MRF')\n",
    "plt.plot(scores_mrf_prior, label='GMM, MRF, prior')\n",
    "plt.grid()\n",
    "plt.legend()\n",
    "plt.xlabel('Iteration')\n",
    "plt.ylabel('NLL values')\n",
    "plt.show()"
   ]
  },
  {
   "cell_type": "code",
   "execution_count": null,
   "metadata": {},
   "outputs": [],
   "source": [
    "display_wrap(masked_img, 'Image', [99,99,84])\n",
    "display_wrap(s, 'GMM segmentation', [99,99,84])\n",
    "display_wrap(s_p, 'GMM+prior segmentation', [99,99,84])\n",
    "display_wrap(s_mrf, 'GMM+MRF segmentation', [99,99,84])\n",
    "display_wrap(s_mrf_prior, 'GMM+MRF+prior segmentation', [99,99,84])"
   ]
  },
  {
   "cell_type": "code",
   "execution_count": null,
   "metadata": {},
   "outputs": [],
   "source": []
  }
 ],
 "metadata": {
  "kernelspec": {
   "display_name": "Python 3",
   "language": "python",
   "name": "python3"
  },
  "language_info": {
   "codemirror_mode": {
    "name": "ipython",
    "version": 3
   },
   "file_extension": ".py",
   "mimetype": "text/x-python",
   "name": "python",
   "nbconvert_exporter": "python",
   "pygments_lexer": "ipython3",
   "version": "3.8.5"
  }
 },
 "nbformat": 4,
 "nbformat_minor": 4
}
