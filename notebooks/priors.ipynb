{
 "cells": [
  {
   "cell_type": "markdown",
   "metadata": {},
   "source": [
    "# Prior Generation Sandbox Notebook\n"
   ]
  },
  {
   "cell_type": "code",
   "execution_count": null,
   "metadata": {},
   "outputs": [],
   "source": [
    "import os\n",
    "import sys\n",
    "import matplotlib.pyplot as plt\n",
    "import SimpleITK as sitk\n",
    "import glob\n",
    "project_root = os.path.abspath('..')\n",
    "sys.path.insert(1, project_root)\n",
    "from src.groupwise import resample_image"
   ]
  },
  {
   "cell_type": "code",
   "execution_count": null,
   "metadata": {},
   "outputs": [],
   "source": [
    "# Config\n",
    "version = 'interactive'\n",
    "load_dir = os.path.join(project_root, 'data/input/segmented')\n",
    "path_to_template = os.path.join(project_root, f'data/output/registration/{version}/average.nii.gz')\n",
    "transformations_dir = os.path.join(project_root, f'data/output/registration/{version}')\n",
    "save_dir = os.path.join(project_root, f'data/output/priors/{version}')"
   ]
  },
  {
   "cell_type": "code",
   "execution_count": null,
   "metadata": {},
   "outputs": [],
   "source": [
    "# Load the input images and their segmentations\n",
    "input_images = []\n",
    "for file_name in sorted(glob.glob(os.path.join(load_dir, '*img.nii.gz'))):\n",
    "    input_images.append(sitk.ReadImage(file_name, sitk.sitkFloat32))\n",
    "    \n",
    "    \n",
    "segmentations = []\n",
    "for file_name in sorted(glob.glob(os.path.join(load_dir, '*seg.nii.gz'))):\n",
    "    segmentations.append(sitk.ReadImage(file_name, sitk.sitkFloat32))\n",
    "    "
   ]
  },
  {
   "cell_type": "code",
   "execution_count": null,
   "metadata": {},
   "outputs": [],
   "source": [
    "# Load the template average acquired as a result of registration\n",
    "# Load corresponding transfromations from input image space to template\n",
    "avg_image = sitk.ReadImage(path_to_template)\n",
    "transformations = []\n",
    "for i in range(10):\n",
    "    transformations.append(sitk.ReadTransform(os.path.join(transformations_dir, f'transformation_{i}.tfm')))"
   ]
  },
  {
   "cell_type": "code",
   "execution_count": null,
   "metadata": {},
   "outputs": [],
   "source": [
    "# Apply transforms to segmentations\n",
    "transformed_segmentation = []\n",
    "for i, current_segmentation in enumerate(segmentations):\n",
    "    tmp = resample_image(avg_image, input_images[i], transformations[i])\n",
    "    tmp_seg = resample_image(avg_image, segmentations[i], transformations[i])\n",
    "    transformed_segmentation.append(tmp_seg)"
   ]
  },
  {
   "cell_type": "code",
   "execution_count": null,
   "metadata": {},
   "outputs": [],
   "source": [
    "# Function to parse the priors\n",
    "def prior(segmentation, values, thr=0.5):\n",
    "    csf = (values['csf'] - thr <= segmentation) * (segmentation < values['csf'] + thr) # 1\n",
    "    gm = (values['gm'] - thr <= segmentation) * (segmentation < values['gm'] + thr)  # 2\n",
    "    wm = (values['wm'] - thr <= segmentation) * (segmentation < values['wm'] + thr)  # 3\n",
    "    return csf, gm, wm"
   ]
  },
  {
   "cell_type": "code",
   "execution_count": null,
   "metadata": {},
   "outputs": [],
   "source": [
    "# Aggregate the segmentations into priors maps for each tissue type\n",
    "segmentation_values = {'csf': 1, 'gm': 2, 'wm': 3}\n",
    "size = transformed_segmentation[0].GetSize()\n",
    "num = len(transformed_segmentation)\n",
    "priors = {'csf': sitk.Image(size, sitk.sitkUInt8), \n",
    "          'gm': sitk.Image(size, sitk.sitkUInt8), \n",
    "          'wm': sitk.Image(size, sitk.sitkUInt8)}\n",
    "priors['csf'].CopyInformation(transformed_segmentation[0])\n",
    "priors['gm'].CopyInformation(transformed_segmentation[0])\n",
    "priors['wm'].CopyInformation(transformed_segmentation[0])\n",
    "for i, current_segmentation in enumerate(transformed_segmentation):\n",
    "    csf, gm, wm = prior(current_segmentation, segmentation_values)\n",
    "    priors['csf'] += csf\n",
    "    priors['gm'] += gm\n",
    "    priors['wm'] += wm\n",
    "priors['csf'] /= num\n",
    "priors['gm'] /= num\n",
    "priors['wm'] /= num"
   ]
  },
  {
   "cell_type": "code",
   "execution_count": null,
   "metadata": {
    "scrolled": true
   },
   "outputs": [],
   "source": [
    "# Plot the priors\n",
    "nrows = 1\n",
    "ncols = 3\n",
    "sl = 70\n",
    "f, ax = plt.subplots(nrows=nrows, ncols=ncols)\n",
    "for col, key in enumerate(priors.keys()):\n",
    "    ax[col].imshow(sitk.GetArrayViewFromImage(priors[key])[:,sl], cmap='gray')\n",
    "    ax[col].axis('off')\n",
    "    ax[col].set_title(key.upper())\n",
    "plt.show()"
   ]
  },
  {
   "cell_type": "code",
   "execution_count": null,
   "metadata": {
    "pycharm": {
     "name": "#%%\n"
    }
   },
   "outputs": [],
   "source": [
    "# Save the prior maps and template image\n",
    "os.makedirs(save_dir)\n",
    "for key, val in priors.items():\n",
    "    sitk.WriteImage(val, os.path.join(save_dir, f'{key}.nii.gz'))\n",
    "\n",
    "sitk.WriteImage(avg_image, os.path.join(save_dir, 'template.nii.gz'))"
   ]
  }
 ],
 "metadata": {
  "kernelspec": {
   "display_name": "Python 3",
   "language": "python",
   "name": "python3"
  },
  "language_info": {
   "codemirror_mode": {
    "name": "ipython",
    "version": 3
   },
   "file_extension": ".py",
   "mimetype": "text/x-python",
   "name": "python",
   "nbconvert_exporter": "python",
   "pygments_lexer": "ipython3",
   "version": "3.8.5"
  }
 },
 "nbformat": 4,
 "nbformat_minor": 4
}